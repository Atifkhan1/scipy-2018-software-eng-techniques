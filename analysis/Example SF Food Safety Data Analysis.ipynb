{
 "cells": [
  {
   "cell_type": "code",
<<<<<<< HEAD
   "execution_count": 21,
   "metadata": {},
   "outputs": [],
   "source": [
    "import datetime\n",
    "from matplotlib import pyplot as plt\n",
    "\n",
=======
   "execution_count": null,
   "metadata": {},
   "outputs": [],
   "source": [
    "# Library imports\n",
    "import datetime\n",
    "from matplotlib import pyplot as plt\n",
    "\n",
    "# Import your module containing the analysis Python functions\n",
    "# You will need to set your PYTHONPATH to your working directory for this import\n",
>>>>>>> origin/master
    "import example_code_aaw as eca"
   ]
  },
  {
   "cell_type": "code",
<<<<<<< HEAD
   "execution_count": 22,
   "metadata": {},
   "outputs": [],
   "source": [
=======
   "execution_count": null,
   "metadata": {},
   "outputs": [],
   "source": [
    "# Display matplotlib graphs within Jupyter notebook\n",
>>>>>>> origin/master
    "%matplotlib inline"
   ]
  },
  {
   "cell_type": "code",
<<<<<<< HEAD
   "execution_count": 2,
   "metadata": {},
   "outputs": [],
   "source": [
=======
   "execution_count": null,
   "metadata": {},
   "outputs": [],
   "source": [
    "# Global variable to full dataset\n",
>>>>>>> origin/master
    "RAW_DATA = '../data/sf_restaurant_scores_full.csv'"
   ]
  },
  {
   "cell_type": "code",
<<<<<<< HEAD
   "execution_count": 3,
   "metadata": {},
   "outputs": [],
   "source": [
=======
   "execution_count": null,
   "metadata": {},
   "outputs": [],
   "source": [
    "# Use load_data() function to pull dataset into the Jupyter notebook\n",
>>>>>>> origin/master
    "all_data = eca.load_file(RAW_DATA)"
   ]
  },
  {
   "cell_type": "code",
<<<<<<< HEAD
   "execution_count": 4,
   "metadata": {},
   "outputs": [],
   "source": [
    "filtered_data = eca.filter_by_inspection_type(all_data)"
=======
   "execution_count": null,
   "metadata": {},
   "outputs": [],
   "source": [
    "# Examine dataset columns (keys in the dictionary)\n",
    "all_data[0].keys()"
>>>>>>> origin/master
   ]
  },
  {
   "cell_type": "code",
<<<<<<< HEAD
   "execution_count": 5,
   "metadata": {},
   "outputs": [
    {
     "data": {
      "text/plain": [
       "odict_keys(['business_id', 'business_name', 'business_address', 'business_city', 'business_state', 'business_postal_code', 'business_latitude', 'business_longitude', 'business_location', 'business_phone_number', 'inspection_id', 'inspection_date', 'inspection_score', 'inspection_type', 'violation_id', 'violation_description', 'risk_category'])"
      ]
     },
     "execution_count": 5,
     "metadata": {},
     "output_type": "execute_result"
    }
   ],
   "source": [
    "all_data[0].keys()"
=======
   "execution_count": null,
   "metadata": {},
   "outputs": [],
   "source": [
    "# Filter on Routine Inspections only\n",
    "filtered_data = eca.filter_by_inspection_type(all_data)"
>>>>>>> origin/master
   ]
  },
  {
   "cell_type": "code",
<<<<<<< HEAD
   "execution_count": 6,
   "metadata": {},
   "outputs": [],
   "source": [
=======
   "execution_count": null,
   "metadata": {},
   "outputs": [],
   "source": [
    "# Build custom function to reformat 'inspection_date' into a usable format for our month/day\n",
>>>>>>> origin/master
    "def reformat_date(inspection_date):\n",
    "    date_as_string = inspection_date[:10]\n",
    "    month, day, year = date_as_string.split('/')\n",
    "    return f'{year}-{month}-{day}'"
   ]
  },
  {
   "cell_type": "code",
<<<<<<< HEAD
   "execution_count": 7,
   "metadata": {},
   "outputs": [
    {
     "data": {
      "text/plain": [
       "'2018-06-28'"
      ]
     },
     "execution_count": 7,
     "metadata": {},
     "output_type": "execute_result"
    }
   ],
   "source": [
=======
   "execution_count": null,
   "metadata": {},
   "outputs": [],
   "source": [
    "# Output most recent 'inspection_date' in dataset\n",
>>>>>>> origin/master
    "max(reformat_date(row['inspection_date']) for row in filtered_data)"
   ]
  },
  {
   "cell_type": "code",
<<<<<<< HEAD
   "execution_count": 8,
   "metadata": {},
   "outputs": [
    {
     "data": {
      "text/plain": [
       "'2015-06-29'"
      ]
     },
     "execution_count": 8,
     "metadata": {},
     "output_type": "execute_result"
    }
   ],
   "source": [
=======
   "execution_count": null,
   "metadata": {},
   "outputs": [],
   "source": [
    "# Output oldest 'inspection_date' in dataset\n",
>>>>>>> origin/master
    "min(reformat_date(row['inspection_date']) for row in filtered_data)"
   ]
  },
  {
   "cell_type": "code",
<<<<<<< HEAD
   "execution_count": 9,
   "metadata": {},
   "outputs": [
    {
     "name": "stdout",
     "output_type": "stream",
     "text": [
      "2015 06 29\n"
     ]
    }
   ],
   "source": [
=======
   "execution_count": null,
   "metadata": {},
   "outputs": [],
   "source": [
    "# Split oldest 'inspect_date' back into its individual year, month, day parts\n",
>>>>>>> origin/master
    "year, month, day = min(reformat_date(row['inspection_date']) for row in filtered_data).split('-')\n",
    "print(year, month, day)"
   ]
  },
  {
   "cell_type": "code",
<<<<<<< HEAD
   "execution_count": 10,
   "metadata": {},
   "outputs": [
    {
     "name": "stdout",
     "output_type": "stream",
     "text": [
      "2018 06 28\n"
     ]
    }
   ],
   "source": [
=======
   "execution_count": null,
   "metadata": {},
   "outputs": [],
   "source": [
    "# Split most recent 'inspect_date' back into its individual year, month, day parts\n",
>>>>>>> origin/master
    "year, month, day = max(reformat_date(row['inspection_date']) for row in filtered_data).split('-')\n",
    "print(year, month, day)"
   ]
  },
  {
   "cell_type": "code",
<<<<<<< HEAD
   "execution_count": 11,
   "metadata": {},
   "outputs": [],
   "source": [
=======
   "execution_count": null,
   "metadata": {},
   "outputs": [],
   "source": [
    "# Convert data to a datetime date object\n",
>>>>>>> origin/master
    "start_date = datetime.date(int(year), int(month), int(day))"
   ]
  },
  {
   "cell_type": "code",
<<<<<<< HEAD
   "execution_count": 12,
   "metadata": {},
   "outputs": [],
   "source": [
=======
   "execution_count": null,
   "metadata": {},
   "outputs": [],
   "source": [
    "# Build custom function to iterate through all month/year combinations in the dataset,\n",
    "# from the oldest month/year to the most recent month/year\n",
    "# Yields tuples: (month, year)\n",
>>>>>>> origin/master
    "def generate_month_year(start_month, start_year, end_month, end_year):\n",
    "    month = start_month\n",
    "    year = start_year\n",
    "    \n",
    "    while True:\n",
    "        yield month, year\n",
    "        if month == end_month and year == end_year:\n",
    "            break\n",
    "        \n",
    "        month +=1\n",
    "        if month > 12:\n",
    "            month = 1\n",
    "            year +=1"
   ]
  },
  {
   "cell_type": "code",
<<<<<<< HEAD
   "execution_count": 19,
   "metadata": {},
   "outputs": [],
   "source": [
=======
   "execution_count": null,
   "metadata": {},
   "outputs": [],
   "source": [
    "# Build a list of all month/year combinations in the dataset, and\n",
    "# a list of the number of violations by risk category, per month/year\n",
>>>>>>> origin/master
    "dates_of_data = []\n",
    "aggregated_data = []\n",
    "for month, year in generate_month_year(6, 2015, 6, 2018):\n",
    "    all_filtered_data = eca.filter_by_month(filtered_data, month, year)\n",
    "    aggregated_data.append(eca.count_restaurants_by_risk_score(all_filtered_data))\n",
    "    dates_of_data.append((datetime.date(year, month, 1)))"
   ]
  },
  {
   "cell_type": "code",
<<<<<<< HEAD
   "execution_count": 20,
   "metadata": {},
   "outputs": [
    {
     "data": {
      "text/plain": [
       "[datetime.date(2015, 6, 1),\n",
       " datetime.date(2015, 7, 1),\n",
       " datetime.date(2015, 8, 1),\n",
       " datetime.date(2015, 9, 1),\n",
       " datetime.date(2015, 10, 1),\n",
       " datetime.date(2015, 11, 1),\n",
       " datetime.date(2015, 12, 1),\n",
       " datetime.date(2016, 1, 1),\n",
       " datetime.date(2016, 2, 1),\n",
       " datetime.date(2016, 3, 1),\n",
       " datetime.date(2016, 4, 1),\n",
       " datetime.date(2016, 5, 1),\n",
       " datetime.date(2016, 6, 1),\n",
       " datetime.date(2016, 7, 1),\n",
       " datetime.date(2016, 8, 1),\n",
       " datetime.date(2016, 9, 1),\n",
       " datetime.date(2016, 10, 1),\n",
       " datetime.date(2016, 11, 1),\n",
       " datetime.date(2016, 12, 1),\n",
       " datetime.date(2017, 1, 1),\n",
       " datetime.date(2017, 2, 1),\n",
       " datetime.date(2017, 3, 1),\n",
       " datetime.date(2017, 4, 1),\n",
       " datetime.date(2017, 5, 1),\n",
       " datetime.date(2017, 6, 1),\n",
       " datetime.date(2017, 7, 1),\n",
       " datetime.date(2017, 8, 1),\n",
       " datetime.date(2017, 9, 1),\n",
       " datetime.date(2017, 10, 1),\n",
       " datetime.date(2017, 11, 1),\n",
       " datetime.date(2017, 12, 1),\n",
       " datetime.date(2018, 1, 1),\n",
       " datetime.date(2018, 2, 1),\n",
       " datetime.date(2018, 3, 1),\n",
       " datetime.date(2018, 4, 1),\n",
       " datetime.date(2018, 5, 1),\n",
       " datetime.date(2018, 6, 1)]"
      ]
     },
     "execution_count": 20,
     "metadata": {},
     "output_type": "execute_result"
    }
   ],
   "source": [
=======
   "execution_count": null,
   "metadata": {},
   "outputs": [],
   "source": [
    "# Inspect date data\n",
>>>>>>> origin/master
    "dates_of_data"
   ]
  },
  {
   "cell_type": "code",
<<<<<<< HEAD
   "execution_count": 15,
   "metadata": {},
   "outputs": [
    {
     "data": {
      "text/plain": [
       "[{'Moderate Risk': 18, 'Low Risk': 28, 'High Risk': 9, 'No Violations': 2},\n",
       " {'Low Risk': 269, 'High Risk': 76, 'Moderate Risk': 194, 'No Violations': 40},\n",
       " {'Moderate Risk': 219,\n",
       "  'Low Risk': 293,\n",
       "  'High Risk': 106,\n",
       "  'No Violations': 49},\n",
       " {'Moderate Risk': 194,\n",
       "  'Low Risk': 272,\n",
       "  'High Risk': 110,\n",
       "  'No Violations': 69},\n",
       " {'Moderate Risk': 210, 'Low Risk': 281, 'High Risk': 87, 'No Violations': 44},\n",
       " {'Low Risk': 209, 'Moderate Risk': 124, 'High Risk': 47, 'No Violations': 38},\n",
       " {'Low Risk': 176, 'High Risk': 44, 'Moderate Risk': 122, 'No Violations': 35},\n",
       " {'Low Risk': 248, 'Moderate Risk': 145, 'High Risk': 53, 'No Violations': 29},\n",
       " {'Low Risk': 454,\n",
       "  'High Risk': 130,\n",
       "  'Moderate Risk': 287,\n",
       "  'No Violations': 36},\n",
       " {'High Risk': 168,\n",
       "  'Low Risk': 606,\n",
       "  'Moderate Risk': 385,\n",
       "  'No Violations': 65},\n",
       " {'Low Risk': 590,\n",
       "  'Moderate Risk': 386,\n",
       "  'High Risk': 177,\n",
       "  'No Violations': 86},\n",
       " {'Moderate Risk': 509,\n",
       "  'Low Risk': 714,\n",
       "  'High Risk': 228,\n",
       "  'No Violations': 44},\n",
       " {'High Risk': 221,\n",
       "  'Moderate Risk': 614,\n",
       "  'Low Risk': 807,\n",
       "  'No Violations': 60},\n",
       " {'Moderate Risk': 462,\n",
       "  'High Risk': 179,\n",
       "  'Low Risk': 589,\n",
       "  'No Violations': 49},\n",
       " {'Moderate Risk': 518,\n",
       "  'Low Risk': 649,\n",
       "  'High Risk': 205,\n",
       "  'No Violations': 67},\n",
       " {'Moderate Risk': 481,\n",
       "  'Low Risk': 600,\n",
       "  'High Risk': 165,\n",
       "  'No Violations': 66},\n",
       " {'Low Risk': 611,\n",
       "  'Moderate Risk': 438,\n",
       "  'High Risk': 160,\n",
       "  'No Violations': 87},\n",
       " {'Low Risk': 420,\n",
       "  'High Risk': 138,\n",
       "  'Moderate Risk': 342,\n",
       "  'No Violations': 29},\n",
       " {'Low Risk': 483, 'Moderate Risk': 352, 'High Risk': 89, 'No Violations': 49},\n",
       " {'Moderate Risk': 465,\n",
       "  'Low Risk': 606,\n",
       "  'High Risk': 164,\n",
       "  'No Violations': 40},\n",
       " {'Low Risk': 434,\n",
       "  'High Risk': 113,\n",
       "  'Moderate Risk': 301,\n",
       "  'No Violations': 75},\n",
       " {'Low Risk': 439,\n",
       "  'High Risk': 117,\n",
       "  'Moderate Risk': 316,\n",
       "  'No Violations': 43},\n",
       " {'Low Risk': 278, 'Moderate Risk': 193, 'High Risk': 80, 'No Violations': 33},\n",
       " {'Moderate Risk': 222, 'Low Risk': 310, 'High Risk': 82, 'No Violations': 28},\n",
       " {'Low Risk': 334,\n",
       "  'High Risk': 132,\n",
       "  'Moderate Risk': 245,\n",
       "  'No Violations': 17},\n",
       " {'Low Risk': 414,\n",
       "  'Moderate Risk': 280,\n",
       "  'High Risk': 166,\n",
       "  'No Violations': 31},\n",
       " {'Moderate Risk': 455,\n",
       "  'Low Risk': 681,\n",
       "  'High Risk': 217,\n",
       "  'No Violations': 30},\n",
       " {'Moderate Risk': 494,\n",
       "  'Low Risk': 619,\n",
       "  'High Risk': 172,\n",
       "  'No Violations': 91},\n",
       " {'High Risk': 221,\n",
       "  'Low Risk': 747,\n",
       "  'Moderate Risk': 584,\n",
       "  'No Violations': 68},\n",
       " {'Low Risk': 830,\n",
       "  'Moderate Risk': 648,\n",
       "  'High Risk': 202,\n",
       "  'No Violations': 67},\n",
       " {'High Risk': 118,\n",
       "  'Moderate Risk': 357,\n",
       "  'Low Risk': 529,\n",
       "  'No Violations': 59},\n",
       " {'High Risk': 158,\n",
       "  'Low Risk': 568,\n",
       "  'Moderate Risk': 433,\n",
       "  'No Violations': 46},\n",
       " {'High Risk': 151,\n",
       "  'Low Risk': 607,\n",
       "  'Moderate Risk': 461,\n",
       "  'No Violations': 101},\n",
       " {'Moderate Risk': 439,\n",
       "  'Low Risk': 595,\n",
       "  'High Risk': 126,\n",
       "  'No Violations': 112},\n",
       " {'Moderate Risk': 504,\n",
       "  'Low Risk': 582,\n",
       "  'High Risk': 156,\n",
       "  'No Violations': 69},\n",
       " {'Low Risk': 722,\n",
       "  'Moderate Risk': 592,\n",
       "  'High Risk': 210,\n",
       "  'No Violations': 79},\n",
       " {'Low Risk': 550,\n",
       "  'Moderate Risk': 437,\n",
       "  'High Risk': 143,\n",
       "  'No Violations': 41}]"
      ]
     },
     "execution_count": 15,
     "metadata": {},
     "output_type": "execute_result"
    }
   ],
   "source": [
=======
   "execution_count": null,
   "metadata": {},
   "outputs": [],
   "source": [
    "# Inspect violations data\n",
>>>>>>> origin/master
    "aggregated_data"
   ]
  },
  {
   "cell_type": "code",
<<<<<<< HEAD
   "execution_count": 29,
   "metadata": {},
   "outputs": [
    {
     "data": {
      "text/plain": [
       "[<matplotlib.lines.Line2D at 0x1125f0e10>]"
      ]
     },
     "execution_count": 29,
     "metadata": {},
     "output_type": "execute_result"
    },
    {
     "data": {
      "image/png": "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\n",
      "text/plain": [
       "<Figure size 1440x432 with 1 Axes>"
      ]
     },
     "metadata": {},
     "output_type": "display_data"
    }
   ],
   "source": [
=======
   "execution_count": null,
   "metadata": {},
   "outputs": [],
   "source": [
    "# Plot data using matplotlib\n",
    "# X axis: year/month\n",
    "# Y axis: number of violations; one line per risk category\n",
    "# Adds labels, a title, and a legend\n",
>>>>>>> origin/master
    "fig, ax = plt.subplots(figsize=(20, 6))\n",
    "ax.set_xlabel('Month')\n",
    "ax.set_ylabel('Number of Violations')\n",
    "ax.set_title('Restaurant Violations by Risk Category by Month')\n",
    "ax.plot(dates_of_data, [row['No Violations'] for row in aggregated_data], label='No Violations')\n",
    "ax.plot(dates_of_data, [row['Low Risk'] for row in aggregated_data], label = 'Low Risk')\n",
    "ax.plot(dates_of_data, [row['Moderate Risk'] for row in aggregated_data], label = 'Moderate Risk')\n",
<<<<<<< HEAD
    "ax.plot(dates_of_data, [row['High Risk'] for row in aggregated_data], label = 'High Risk')"
   ]
  },
  {
   "cell_type": "code",
   "execution_count": null,
   "metadata": {},
   "outputs": [],
   "source": []
=======
    "ax.plot(dates_of_data, [row['High Risk'] for row in aggregated_data], label = 'High Risk')\n",
    "ax.legend()"
   ]
>>>>>>> origin/master
  }
 ],
 "metadata": {
  "kernelspec": {
   "display_name": "Python 3",
   "language": "python",
   "name": "python3"
  },
  "language_info": {
   "codemirror_mode": {
    "name": "ipython",
    "version": 3
   },
   "file_extension": ".py",
   "mimetype": "text/x-python",
   "name": "python",
   "nbconvert_exporter": "python",
   "pygments_lexer": "ipython3",
   "version": "3.6.2"
  }
 },
 "nbformat": 4,
 "nbformat_minor": 2
}
