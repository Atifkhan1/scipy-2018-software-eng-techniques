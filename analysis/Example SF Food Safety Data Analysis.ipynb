{
 "cells": [
  {
   "cell_type": "code",
   "execution_count": null,
   "metadata": {},
   "outputs": [],
   "source": [
    "# Library imports\n",
    "import datetime\n",
    "from matplotlib import pyplot as plt\n",
    "\n",
    "# Import your module containing the analysis Python functions\n",
    "# You will need to set your PYTHONPATH to your working directory for this import\n",
    "import example_code_aaw as eca"
   ]
  },
  {
   "cell_type": "code",
   "execution_count": null,
   "metadata": {},
   "outputs": [],
   "source": [
    "# Display matplotlib graphs within Jupyter notebook\n",
    "%matplotlib inline"
   ]
  },
  {
   "cell_type": "code",
   "execution_count": null,
   "metadata": {},
   "outputs": [],
   "source": [
    "# Global variable to full dataset\n",
    "RAW_DATA = '../data/sf_restaurant_scores_full.csv'"
   ]
  },
  {
   "cell_type": "code",
   "execution_count": null,
   "metadata": {},
   "outputs": [],
   "source": [
    "# Use load_data() function to pull dataset into the Jupyter notebook\n",
    "all_data = eca.load_file(RAW_DATA)"
   ]
  },
  {
   "cell_type": "code",
   "execution_count": null,
   "metadata": {},
   "outputs": [],
   "source": [
    "# Examine dataset columns (keys in the dictionary)\n",
    "all_data[0].keys()"
   ]
  },
  {
   "cell_type": "code",
   "execution_count": null,
   "metadata": {},
   "outputs": [],
   "source": [
    "# Filter on Routine Inspections only\n",
    "filtered_data = eca.filter_by_inspection_type(all_data)"
   ]
  },
  {
   "cell_type": "code",
   "execution_count": null,
   "metadata": {},
   "outputs": [],
   "source": [
    "# Build custom function to reformat 'inspection_date' into a usable format for our month/day\n",
    "def reformat_date(inspection_date):\n",
    "    date_as_string = inspection_date[:10]\n",
    "    month, day, year = date_as_string.split('/')\n",
    "    return f'{year}-{month}-{day}'"
   ]
  },
  {
   "cell_type": "code",
   "execution_count": null,
   "metadata": {},
   "outputs": [],
   "source": [
    "# Output most recent 'inspection_date' in dataset\n",
    "max(reformat_date(row['inspection_date']) for row in filtered_data)"
   ]
  },
  {
   "cell_type": "code",
   "execution_count": null,
   "metadata": {},
   "outputs": [],
   "source": [
    "# Output oldest 'inspection_date' in dataset\n",
    "min(reformat_date(row['inspection_date']) for row in filtered_data)"
   ]
  },
  {
   "cell_type": "code",
   "execution_count": null,
   "metadata": {},
   "outputs": [],
   "source": [
    "# Split oldest 'inspect_date' back into its individual year, month, day parts\n",
    "year, month, day = min(reformat_date(row['inspection_date']) for row in filtered_data).split('-')\n",
    "print(year, month, day)"
   ]
  },
  {
   "cell_type": "code",
   "execution_count": null,
   "metadata": {},
   "outputs": [],
   "source": [
    "# Split most recent 'inspect_date' back into its individual year, month, day parts\n",
    "year, month, day = max(reformat_date(row['inspection_date']) for row in filtered_data).split('-')\n",
    "print(year, month, day)"
   ]
  },
  {
   "cell_type": "code",
   "execution_count": null,
   "metadata": {},
   "outputs": [],
   "source": [
    "# Convert data to a datetime date object\n",
    "start_date = datetime.date(int(year), int(month), int(day))"
   ]
  },
  {
   "cell_type": "code",
   "execution_count": null,
   "metadata": {},
   "outputs": [],
   "source": [
    "# Build custom function to iterate through all month/year combinations in the dataset,\n",
    "# from the oldest month/year to the most recent month/year\n",
    "# Yields tuples: (month, year)\n",
    "def generate_month_year(start_month, start_year, end_month, end_year):\n",
    "    month = start_month\n",
    "    year = start_year\n",
    "    \n",
    "    while True:\n",
    "        yield month, year\n",
    "        if month == end_month and year == end_year:\n",
    "            break\n",
    "        \n",
    "        month +=1\n",
    "        if month > 12:\n",
    "            month = 1\n",
    "            year +=1"
   ]
  },
  {
   "cell_type": "code",
   "execution_count": null,
   "metadata": {},
   "outputs": [],
   "source": [
    "# Build a list of all month/year combinations in the dataset, and\n",
    "# a list of the number of violations by risk category, per month/year\n",
    "dates_of_data = []\n",
    "aggregated_data = []\n",
    "for month, year in generate_month_year(6, 2015, 6, 2018):\n",
    "    all_filtered_data = eca.filter_by_month(filtered_data, month, year)\n",
    "    aggregated_data.append(eca.count_restaurants_by_risk_score(all_filtered_data))\n",
    "    dates_of_data.append((datetime.date(year, month, 1)))"
   ]
  },
  {
   "cell_type": "code",
   "execution_count": null,
   "metadata": {},
   "outputs": [],
   "source": [
    "# Inspect date data\n",
    "dates_of_data"
   ]
  },
  {
   "cell_type": "code",
   "execution_count": null,
   "metadata": {},
   "outputs": [],
   "source": [
    "# Inspect violations data\n",
    "aggregated_data"
   ]
  },
  {
   "cell_type": "code",
   "execution_count": null,
   "metadata": {},
   "outputs": [],
   "source": [
    "# Plot data using matplotlib\n",
    "# X axis: year/month\n",
    "# Y axis: number of violations; one line per risk category\n",
    "# Adds labels, a title, and a legend\n",
    "fig, ax = plt.subplots(figsize=(20, 6))\n",
    "ax.set_xlabel('Month')\n",
    "ax.set_ylabel('Number of Violations')\n",
    "ax.set_title('Restaurant Violations by Risk Category by Month')\n",
    "ax.plot(dates_of_data, [row['No Violations'] for row in aggregated_data], label='No Violations')\n",
    "ax.plot(dates_of_data, [row['Low Risk'] for row in aggregated_data], label = 'Low Risk')\n",
    "ax.plot(dates_of_data, [row['Moderate Risk'] for row in aggregated_data], label = 'Moderate Risk')\n",
    "ax.plot(dates_of_data, [row['High Risk'] for row in aggregated_data], label = 'High Risk')\n",
    "ax.legend()"
   ]
  }
 ],
 "metadata": {
  "kernelspec": {
   "display_name": "Python 3",
   "language": "python",
   "name": "python3"
  },
  "language_info": {
   "codemirror_mode": {
    "name": "ipython",
    "version": 3
   },
   "file_extension": ".py",
   "mimetype": "text/x-python",
   "name": "python",
   "nbconvert_exporter": "python",
   "pygments_lexer": "ipython3",
   "version": "3.6.2"
  }
 },
 "nbformat": 4,
 "nbformat_minor": 2
}
